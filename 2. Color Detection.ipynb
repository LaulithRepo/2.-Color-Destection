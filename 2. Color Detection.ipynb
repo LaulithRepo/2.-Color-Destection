{
 "cells": [
  {
   "cell_type": "code",
   "execution_count": 18,
   "metadata": {},
   "outputs": [],
   "source": [
    "# pip install opencv-python-headless\n",
    "# pip install opencv-python\n",
    "# pip install matplotlib.pyplot\n",
    "# pip install numpy\n"
   ]
  },
  {
   "cell_type": "code",
   "execution_count": 16,
   "metadata": {},
   "outputs": [
    {
     "name": "stdout",
     "output_type": "stream",
     "text": [
      "[[[  0 255 255]]]\n"
     ]
    }
   ],
   "source": [
    "# Convert Red color from BGR to HSV\n",
    "import numpy as np\n",
    "import cv2\n",
    "\n",
    "red = np.uint8([[[0, 0, 255]]]) #here insert the bgr values which you want to convert to hsv\n",
    "hsvRed = cv2.cvtColor(red, cv2.COLOR_BGR2HSV)\n",
    "print(hsvRed)\n",
    "\n",
    "# define lower and upper limits of red color range\n",
    "lowerLimit1 = np.array([0, 100, 100])\n",
    "upperLimit1 = np.array([10, 255, 255])\n",
    "lowerLimit2 = np.array([170, 100, 100])\n",
    "upperLimit2 = np.array([180, 255, 255])\n",
    "\n"
   ]
  },
  {
   "cell_type": "code",
   "execution_count": 17,
   "metadata": {},
   "outputs": [],
   "source": [
    "import cv2\n",
    "\n",
    "cap = cv2.VideoCapture(0)\n",
    "\n",
    "while True:\n",
    "    ret, frame = cap.read()\n",
    "    \n",
    "    # Convert the frame to HSV color space\n",
    "    hsv = cv2.cvtColor(frame, cv2.COLOR_BGR2HSV)\n",
    "    \n",
    "    # Define range of red color in HSV\n",
    "    lower_red = (0, 50, 50)\n",
    "    upper_red = (10, 255, 255)\n",
    "    mask1 = cv2.inRange(hsv, lower_red, upper_red)\n",
    "    \n",
    "    lower_red = (170, 50, 50)\n",
    "    upper_red = (180, 255, 255)\n",
    "    mask2 = cv2.inRange(hsv, lower_red, upper_red)\n",
    "    \n",
    "    # Combine the masks\n",
    "    mask = cv2.bitwise_or(mask1, mask2)\n",
    "    \n",
    "    # Find contours in the mask\n",
    "    contours, hierarchy = cv2.findContours(mask, cv2.RETR_EXTERNAL, cv2.CHAIN_APPROX_SIMPLE)\n",
    "    \n",
    "    # Draw contours on the original frame\n",
    "    for contour in contours:\n",
    "        area = cv2.contourArea(contour)\n",
    "        if area > 100:  # Ignore small contours\n",
    "            cv2.drawContours(frame, [contour], 0, (0, 0, 255), 2)\n",
    "    \n",
    "    # Display the resulting frame\n",
    "    cv2.imshow('frame', frame)\n",
    "    \n",
    "    # Exit on 'q' keypress\n",
    "    if cv2.waitKey(1) & 0xFF == ord('q'):\n",
    "        break\n",
    "\n",
    "# Release resources\n",
    "cap.release()\n",
    "cv2.destroyAllWindows()"
   ]
  }
 ],
 "metadata": {
  "kernelspec": {
   "display_name": "Python 3",
   "language": "python",
   "name": "python3"
  },
  "language_info": {
   "codemirror_mode": {
    "name": "ipython",
    "version": 3
   },
   "file_extension": ".py",
   "mimetype": "text/x-python",
   "name": "python",
   "nbconvert_exporter": "python",
   "pygments_lexer": "ipython3",
   "version": "3.10.2"
  },
  "orig_nbformat": 4
 },
 "nbformat": 4,
 "nbformat_minor": 2
}
